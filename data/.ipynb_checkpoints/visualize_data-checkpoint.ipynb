{
 "cells": [
  {
   "cell_type": "markdown",
   "metadata": {},
   "source": [
    "## Correlation Between Features"
   ]
  },
  {
   "cell_type": "code",
   "execution_count": 3,
   "metadata": {
    "collapsed": false
   },
   "outputs": [
    {
     "name": "stdout",
     "output_type": "stream",
     "text": [
      "['Open Date', 'City', 'City Group', 'Type', 'P1', 'P2', 'P3', 'P4', 'P5', 'P6', 'P7', 'P8', 'P9', 'P10', 'P11', 'P12', 'P13', 'P14', 'P15', 'P16', 'P17', 'P18', 'P19', 'P20', 'P21', 'P22', 'P23', 'P24', 'P25', 'P26', 'P27', 'P28', 'P29', 'P30', 'P31', 'P32', 'P33', 'P34', 'P35', 'P36', 'P37', 'revenue']\n",
      "train_header_len 42\n",
      "rows_train_len (137, 43)\n"
     ]
    }
   ],
   "source": [
    "%matplotlib inline\n",
    "import matplotlib.pyplot as plt\n",
    "import matplotlib as mpl\n",
    "import read_data as rd\n",
    "import numpy as np\n",
    "import seaborn as sns\n",
    "from IPython.display import Image\n",
    "import pandas as pd\n",
    "\n",
    "#read data\n",
    "train = 'train.csv'\n",
    "test = 'test.csv'\n",
    "\n",
    "rows, rows_train, rows_test = rd.get_all_rows(train, test)\n",
    "city_names = rd.scan_city_name(rows)\n",
    "city_groups = rd.scan_city_group(rows)\n",
    "types = rd.scan_type(rows)\n",
    "\n",
    "# print 'citys = %s, %s ' % (len(city_names), city_names)\n",
    "# print 'city group = %s, %s ' % (len(city_groups), city_groups)\n",
    "# print 'types = %s, %s ' % (len(types), types)\n",
    "\n",
    "train_header = rd.read_csv_header(train)\n",
    "test_header = rd.read_csv_header(test)\n",
    "train_header = train_header[1:len(train_header)]\n",
    "test_header = test_header[1:len(test_header)]\n",
    "\n",
    "# tranfrom data to numeric types\n",
    "rows_train = rd.transform_data(rows_train, city_names, city_groups, types)\n",
    "rows_test = rd.transform_data(rows_test, city_names, city_groups, types)\n",
    "\n",
    "# convert to float type\n",
    "rows_train = np.array(rows_train, dtype = float)\n",
    "rows_test = np.array(rows_test, dtype = float)\n",
    "\n",
    "# seperate train data and train label\n",
    "X_train = rows_train[:, 1:len(rows_train[0])-1]\n",
    "y_train = rows_train[:, len(rows_train[0])-1]\n",
    "\n",
    "\n",
    "# train_header = np.append(train_header,'revenue')\n",
    "\n",
    "print train_header\n",
    "print 'train_header_len', len(train_header)\n",
    "print 'rows_train_len', rows_train.shape\n",
    "pd_all_train = pd.DataFrame(rows_train[:, 1:len(rows_train[0])], columns=train_header)"
   ]
  },
  {
   "cell_type": "code",
   "execution_count": 5,
   "metadata": {
    "collapsed": false,
    "scrolled": false
   },
   "outputs": [],
   "source": [
    "\n",
    "sns.set(style=\"darkgrid\")\n",
    "f, ax = plt.subplots(figsize=(9, 9))\n",
    "cmap = sns.diverging_palette(220, 10, as_cmap=True)\n",
    "sns.corrplot(pd_all_train, annot=False, \n",
    "             diag_names=False)\n",
    "plt.show()"
   ]
  },
  {
   "cell_type": "code",
   "execution_count": null,
   "metadata": {
    "collapsed": true
   },
   "outputs": [],
   "source": []
  },
  {
   "cell_type": "code",
   "execution_count": null,
   "metadata": {
    "collapsed": true
   },
   "outputs": [],
   "source": []
  },
  {
   "cell_type": "code",
   "execution_count": null,
   "metadata": {
    "collapsed": true
   },
   "outputs": [],
   "source": []
  }
 ],
 "metadata": {
  "kernelspec": {
   "display_name": "Python 2",
   "language": "python",
   "name": "python2"
  },
  "language_info": {
   "codemirror_mode": {
    "name": "ipython",
    "version": 2
   },
   "file_extension": ".py",
   "mimetype": "text/x-python",
   "name": "python",
   "nbconvert_exporter": "python",
   "pygments_lexer": "ipython2",
   "version": "2.7.8"
  }
 },
 "nbformat": 4,
 "nbformat_minor": 0
}
