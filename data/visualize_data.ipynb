{
 "cells": [
  {
   "cell_type": "markdown",
   "metadata": {},
   "source": [
    "## Correlation Between Features"
   ]
  },
  {
   "cell_type": "code",
   "execution_count": 2,
   "metadata": {
    "collapsed": false
   },
   "outputs": [
    {
     "name": "stdout",
     "output_type": "stream",
     "text": [
      "43\n"
     ]
    }
   ],
   "source": [
    "import matplotlib.pyplot as plt\n",
    "import matplotlib as mpl\n",
    "import read_data as rd\n",
    "import numpy as np\n",
    "import seaborn as sns\n",
    "\n",
    "#read data\n",
    "train = 'train.csv'\n",
    "test = 'test.csv'\n",
    "train_and_test, rows_train, rows_test = rd.get_all_rows(train, test)\n",
    "header = rd.read_csv_header(train)\n",
    "print len(header)\n"
   ]
  },
  {
   "cell_type": "code",
   "execution_count": 4,
   "metadata": {
    "collapsed": false
   },
   "outputs": [],
   "source": [
    "rs = np.random.RandomState(33)\n",
    "d = rs.normal(size=(100,43))\n",
    "\n",
    "f, ax = plt.subplots(figsize = (9, 9))\n",
    "cmap = sns.diverging_palette(220, 10, as_cmap = True)\n",
    "sns.corrplot(d, annot=False, sig_stars=False, diag_names=False, cmap=cmap, ax=ax)\n",
    "f.tight_layout()"
   ]
  },
  {
   "cell_type": "code",
   "execution_count": null,
   "metadata": {
    "collapsed": true
   },
   "outputs": [],
   "source": []
  }
 ],
 "metadata": {
  "kernelspec": {
   "display_name": "Python 2",
   "language": "python",
   "name": "python2"
  },
  "language_info": {
   "codemirror_mode": {
    "name": "ipython",
    "version": 2
   },
   "file_extension": ".py",
   "mimetype": "text/x-python",
   "name": "python",
   "nbconvert_exporter": "python",
   "pygments_lexer": "ipython2",
   "version": "2.7.8"
  }
 },
 "nbformat": 4,
 "nbformat_minor": 0
}
